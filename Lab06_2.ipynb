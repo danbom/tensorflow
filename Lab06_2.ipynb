{
  "nbformat": 4,
  "nbformat_minor": 0,
  "metadata": {
    "colab": {
      "name": "Lab06_2.ipynb",
      "provenance": [],
      "private_outputs": true,
      "collapsed_sections": [],
      "authorship_tag": "ABX9TyMb2HpHjQLOyOsNssW9G5aG",
      "include_colab_link": true
    },
    "kernelspec": {
      "name": "python3",
      "display_name": "Python 3"
    }
  },
  "cells": [
    {
      "cell_type": "markdown",
      "metadata": {
        "id": "view-in-github",
        "colab_type": "text"
      },
      "source": [
        "<a href=\"https://colab.research.google.com/github/danbom/tensorflow/blob/master/Lab06_2.ipynb\" target=\"_parent\"><img src=\"https://colab.research.google.com/assets/colab-badge.svg\" alt=\"Open In Colab\"/></a>"
      ]
    },
    {
      "cell_type": "markdown",
      "metadata": {
        "id": "m191495wm_DS",
        "colab_type": "text"
      },
      "source": [
        "Lab 06 Softmax Zoo_classifier-eager"
      ]
    },
    {
      "cell_type": "code",
      "metadata": {
        "id": "emX9mw3vmw65",
        "colab_type": "code",
        "colab": {}
      },
      "source": [
        "import tensorflow as tf\n",
        "import numpy as np\n",
        "\n",
        "tf.random.set_seed(777)"
      ],
      "execution_count": null,
      "outputs": []
    },
    {
      "cell_type": "code",
      "metadata": {
        "id": "hpJTs2iBpluX",
        "colab_type": "code",
        "colab": {}
      },
      "source": [
        "from google.colab import files\n",
        "uploaded = files.upload()"
      ],
      "execution_count": null,
      "outputs": []
    },
    {
      "cell_type": "code",
      "metadata": {
        "id": "enhYcFhfnxIV",
        "colab_type": "code",
        "colab": {}
      },
      "source": [
        "xy = np.loadtxt('data-04-zoo.csv', delimiter=',', dtype=np.float32)\n",
        "x_data = xy[:,0:-1]\n",
        "y_data = xy[:,-1]\n",
        "\n",
        "nb_classes = 7\n",
        "\n",
        "Y_one_hot = tf.one_hot(y_data.astype(np.int32), nb_classes)\n",
        "\n",
        "print(x_data.shape, Y_one_hot.shape)"
      ],
      "execution_count": null,
      "outputs": []
    },
    {
      "cell_type": "code",
      "metadata": {
        "id": "Mb1f3tnfpbpj",
        "colab_type": "code",
        "colab": {}
      },
      "source": [
        "!ls -l"
      ],
      "execution_count": null,
      "outputs": []
    },
    {
      "cell_type": "code",
      "metadata": {
        "id": "Trjt8kh7rGQQ",
        "colab_type": "code",
        "colab": {}
      },
      "source": [
        "W = tf.Variable(tf.random.normal((16, nb_classes)), name='weight')\n",
        "b = tf.Variable(tf.random.normal((nb_classes,)), name = 'bias')\n",
        "variables = [W,b]\n",
        "\n",
        "def logit_fn(X):\n",
        "    return tf.matmul(X,W) + b\n",
        "\n",
        "def hypothesis(X) :\n",
        "    return tf.nn.softmax(logit_fn(X))\n",
        "\n",
        "def cost_fn(X,Y):\n",
        "    logits = logit_fn(X)\n",
        "    cost_i = tf.keras.losses.categorical_crossentropy(y_true=Y, y_pred=logits,from_logits=True)\n",
        "    cost = tf.reduce_mean(cost_i)\n",
        "    return cost\n",
        "\n",
        "def grad_fn(X,Y):\n",
        "    with tf.GradientTape() as tape :\n",
        "        loss = cost_fn(X,Y)\n",
        "        grads = tape.gradient(loss, variables)\n",
        "        return grads\n",
        "\n",
        "def prediction(X,Y) :\n",
        "    pred = tf.argmax(hypothesis(X),1)\n",
        "    correct_prediction = tf.equal(pred, tf.argmax(Y,1))\n",
        "    accuracy = tf.reduce_mean(tf.cast(correct_prediction, tf.float32))\n",
        "\n",
        "    return accuracy"
      ],
      "execution_count": null,
      "outputs": []
    },
    {
      "cell_type": "code",
      "metadata": {
        "id": "2l0rlC8Xspe9",
        "colab_type": "code",
        "colab": {}
      },
      "source": [
        "def fit(X,Y,epochs=1000,verbose=100):\n",
        "    optimizer = tf.keras.optimizers.SGD(learning_rate=0.1)\n",
        "\n",
        "    for i in range(epochs) :\n",
        "        grads = grad_fn(X,Y)\n",
        "        optimizer.apply_gradients(zip(grads, variables))\n",
        "        if (i==0) | ((i+1)%verbose==0):\n",
        "            acc = prediction(X,Y).numpy()\n",
        "            loss = cost_fn(X,Y).numpy()\n",
        "            print('Step: {} Loss: {}, Acc: {}'.format(i+1, loss, acc))\n",
        "\n",
        "fit(x_data, Y_one_hot)"
      ],
      "execution_count": null,
      "outputs": []
    },
    {
      "cell_type": "markdown",
      "metadata": {
        "id": "ldRBh5O6s3rw",
        "colab_type": "text"
      },
      "source": [
        "- SGD : 확률적 경사하강법 Stochastic Gradient Descent"
      ]
    }
  ]
}