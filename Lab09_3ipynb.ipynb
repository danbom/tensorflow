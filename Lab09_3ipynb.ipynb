{
  "nbformat": 4,
  "nbformat_minor": 0,
  "metadata": {
    "colab": {
      "name": "Lab09_3ipynb",
      "provenance": [],
      "private_outputs": true,
      "collapsed_sections": [],
      "authorship_tag": "ABX9TyONHwEAyL+9e8/XAlcaOQgb",
      "include_colab_link": true
    },
    "kernelspec": {
      "name": "python3",
      "display_name": "Python 3"
    }
  },
  "cells": [
    {
      "cell_type": "markdown",
      "metadata": {
        "id": "view-in-github",
        "colab_type": "text"
      },
      "source": [
        "<a href=\"https://colab.research.google.com/github/danbom/tensorflow/blob/master/Lab09_3ipynb.ipynb\" target=\"_parent\"><img src=\"https://colab.research.google.com/assets/colab-badge.svg\" alt=\"Open In Colab\"/></a>"
      ]
    },
    {
      "cell_type": "markdown",
      "metadata": {
        "id": "3RuhMMwTEMLu"
      },
      "source": [
        "## Lab 09 XOR - Deep Neural Network - Eager\n",
        "- XOR 문제를 Deep Neural Network 활용해 풀어보도록 하겠습니다.\n",
        "\n",
        "기본 Library 선언"
      ]
    },
    {
      "cell_type": "code",
      "metadata": {
        "id": "rnt8aQRNEHPU"
      },
      "source": [
        "import numpy as np\n",
        "import matplotlib.pyplot as plt\n",
        "%matplotlib inline\n",
        "import tensorflow as tf\n",
        "\n",
        "tf.random.set_seed(777)"
      ],
      "execution_count": null,
      "outputs": []
    },
    {
      "cell_type": "markdown",
      "metadata": {
        "id": "09jQJl4xEgpY"
      },
      "source": [
        "강의에 설명할 Data입니다\n",
        "- x_data가 2차원 배열이기에 2차원 공간에 표현하여 x1과 x2를 기준으로 y_data 0과 1로 구분하는 예제입니다\n",
        "- 붉은색과 푸른색으로 0과 1을 표시해 보도록 하겠습니다."
      ]
    },
    {
      "cell_type": "code",
      "metadata": {
        "id": "0pl4CJ6AEjau"
      },
      "source": [
        "x_data = [[0, 0],\n",
        "          [0, 1],\n",
        "          [1, 0],\n",
        "          [1, 1]]\n",
        "y_data = [[0],\n",
        "          [1],\n",
        "          [1],\n",
        "          [0]]\n",
        "\n",
        "plt.scatter(x_data[0][0],x_data[0][1], c='red' , marker='^')\n",
        "plt.scatter(x_data[3][0],x_data[3][1], c='red' , marker='^')\n",
        "plt.scatter(x_data[1][0],x_data[1][1], c='blue' , marker='^')\n",
        "plt.scatter(x_data[2][0],x_data[2][1], c='blue' , marker='^')\n",
        "\n",
        "plt.xlabel(\"x1\")\n",
        "plt.ylabel(\"x2\")\n",
        "plt.show()"
      ],
      "execution_count": null,
      "outputs": []
    },
    {
      "cell_type": "markdown",
      "metadata": {
        "id": "8tbjOXvXEldM"
      },
      "source": [
        "\n",
        "## Tensorflow Eager\n",
        "위 Data를 기준으로 XOR처리를 위한 모델을 만들도록 하겠습니다\n",
        "- Tensorflow data API를 통해 학습시킬 값들을 담는다 (Batch Size는 한번에 학습시킬 Size로 정한다)\n",
        "- features,labels는 실재 학습에 쓰일 Data (연산을 위해 Type를 맞춰준다)"
      ]
    },
    {
      "cell_type": "code",
      "metadata": {
        "id": "IdEN4FhcEomT"
      },
      "source": [
        "dataset = tf.data.Dataset.from_tensor_slices((x_data, y_data)).batch(len(x_data))\n",
        "nb_classes = 10\n",
        "\n",
        "class wide_deep_nn():\n",
        "    def __init__(self, nb_classes):\n",
        "        super(wide_deep_nn, self).__init__()        \n",
        "     \n",
        "        self.W1 = tf.Variable(tf.random.normal((2, nb_classes)), name='weight1')\n",
        "        self.b1 = tf.Variable(tf.random.normal((nb_classes,)), name='bias1')\n",
        "\n",
        "        self.W2 = tf.Variable(tf.random.normal((nb_classes, nb_classes)), name='weight2')\n",
        "        self.b2 = tf.Variable(tf.random.normal((nb_classes,)), name='bias2')\n",
        "\n",
        "        self.W3 = tf.Variable(tf.random.normal((nb_classes, nb_classes)), name='weight3')\n",
        "        self.b3 = tf.Variable(tf.random.normal((nb_classes,)), name='bias3')\n",
        "\n",
        "        self.W4 = tf.Variable(tf.random.normal((nb_classes, 1)), name='weight4')\n",
        "        self.b4 = tf.Variable(tf.random.normal((1,)), name='bias4')\n",
        "        \n",
        "        self.variables = [self.W1,self.b1,self.W2,self.b2,self.W3,self.b3,self.W4,self.b4]\n",
        "        \n",
        "    def preprocess_data(self, features, labels):\n",
        "        features = tf.cast(features, tf.float32)\n",
        "        labels = tf.cast(labels, tf.float32)\n",
        "        return features, labels\n",
        "        \n",
        "    def deep_nn(self, features):\n",
        "        layer1 = tf.sigmoid(tf.matmul(features, self.W1) + self.b1)\n",
        "        layer2 = tf.sigmoid(tf.matmul(layer1, self.W2) + self.b2)\n",
        "        layer3 = tf.sigmoid(tf.matmul(layer2, self.W3) + self.b3)\n",
        "        hypothesis = tf.sigmoid(tf.matmul(layer3, self.W4) + self.b4)\n",
        "        return hypothesis\n",
        "    \n",
        "    def loss_fn(self, hypothesis, features, labels):\n",
        "        cost = -tf.reduce_mean(labels * tf.math.log(hypothesis) + (1 - labels) * tf.math.log(1 - hypothesis))\n",
        "        return cost\n",
        "\n",
        "    def accuracy_fn(self, hypothesis, labels):\n",
        "        predicted = tf.cast(hypothesis > 0.5, dtype=tf.float32)\n",
        "        accuracy = tf.reduce_mean(tf.cast(tf.equal(predicted, labels), dtype=tf.float32))\n",
        "        return accuracy\n",
        "\n",
        "    def grad(self, hypothesis, features, labels):\n",
        "        with tf.GradientTape() as tape:\n",
        "            loss_value = self.loss_fn(self.deep_nn(features),features,labels)\n",
        "        return tape.gradient(loss_value,self.variables)\n",
        "    \n",
        "    def fit(self, dataset, EPOCHS=20000, verbose=500):\n",
        "        optimizer =  tf.keras.optimizers.SGD(learning_rate=0.01)\n",
        "        for step in range(EPOCHS):\n",
        "            for features, labels  in dataset:\n",
        "                features, labels = self.preprocess_data(features, labels)\n",
        "                grads = self.grad(self.deep_nn(features), features, labels)\n",
        "                optimizer.apply_gradients(grads_and_vars=zip(grads, self.variables))\n",
        "                if step % verbose == 0:\n",
        "                    print(\"Iter: {}, Loss: {:.4f}\".format(step, self.loss_fn(self.deep_nn(features),features,labels)))\n",
        "\n",
        "    def test_model(self,x_data, y_data):\n",
        "        x_data, y_data = self.preprocess_data(x_data, y_data)\n",
        "        test_acc = self.accuracy_fn(self.deep_nn(x_data),y_data)\n",
        "        print(\"Testset Accuracy: {:.4f}\".format(test_acc))"
      ],
      "execution_count": null,
      "outputs": []
    },
    {
      "cell_type": "markdown",
      "metadata": {
        "id": "lFzpkz4GE8eX"
      },
      "source": [
        "\n",
        "Deep Neural Network를 통해 XOR해결\n",
        "\n",
        "- 위의 Data를 4Layer의 Neural Network를 통해 학습시킨 후 모델을 생성합니다."
      ]
    },
    {
      "cell_type": "code",
      "metadata": {
        "id": "Y-FZvNmXE-RX"
      },
      "source": [
        "model = wide_deep_nn(nb_classes)\n",
        "model.fit(dataset)"
      ],
      "execution_count": null,
      "outputs": []
    }
  ]
}