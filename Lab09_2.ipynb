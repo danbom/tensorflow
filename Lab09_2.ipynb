{
  "nbformat": 4,
  "nbformat_minor": 0,
  "metadata": {
    "colab": {
      "name": "Lab09_2.ipynb",
      "provenance": [],
      "private_outputs": true,
      "collapsed_sections": [],
      "authorship_tag": "ABX9TyNfs+bnjKgIuo2WTbJKYt5Q",
      "include_colab_link": true
    },
    "kernelspec": {
      "name": "python3",
      "display_name": "Python 3"
    }
  },
  "cells": [
    {
      "cell_type": "markdown",
      "metadata": {
        "id": "view-in-github",
        "colab_type": "text"
      },
      "source": [
        "<a href=\"https://colab.research.google.com/github/danbom/tensorflow/blob/master/Lab09_2.ipynb\" target=\"_parent\"><img src=\"https://colab.research.google.com/assets/colab-badge.svg\" alt=\"Open In Colab\"/></a>"
      ]
    },
    {
      "cell_type": "markdown",
      "metadata": {
        "id": "nYrcAhwdA3rZ"
      },
      "source": [
        "\n",
        "## Lab 09 XOR - Neural Network - Eager Excuetion\n",
        "- XOR 문제를 Neural Network을 활용해 풀어보도록 하겠습니다.\n",
        "\n",
        "기본 Library 선언 "
      ]
    },
    {
      "cell_type": "code",
      "metadata": {
        "id": "b_iEWP1M_CxJ"
      },
      "source": [
        "import numpy as np\n",
        "import matplotlib.pyplot as plt\n",
        "%matplotlib inline\n",
        "import tensorflow as tf\n",
        "\n",
        "tf.random.set_seed(777)  "
      ],
      "execution_count": null,
      "outputs": []
    },
    {
      "cell_type": "markdown",
      "metadata": {
        "id": "b3gmJoTUBt41"
      },
      "source": [
        "강의에 설명할 Data입니다\n",
        "- x_data가 2차원 배열이기에 2차원 공간에 표현하여 x1과 x2를 기준으로 y_data 0과 1로 구분하는 예제입니다\n",
        "- 붉은색과 푸른색으로 0과 1을 표시해 보도록 하겠습니다."
      ]
    },
    {
      "cell_type": "code",
      "metadata": {
        "id": "XdbC1dUaBylU"
      },
      "source": [
        "\n",
        "x_data = [[0, 0],\n",
        "          [0, 1],\n",
        "          [1, 0],\n",
        "          [1, 1]]\n",
        "y_data = [[0],\n",
        "          [1],\n",
        "          [1],\n",
        "          [0]]\n",
        "\n",
        "plt.scatter(x_data[0][0],x_data[0][1], c='red' , marker='^')\n",
        "plt.scatter(x_data[3][0],x_data[3][1], c='red' , marker='^')\n",
        "plt.scatter(x_data[1][0],x_data[1][1], c='blue' , marker='^')\n",
        "plt.scatter(x_data[2][0],x_data[2][1], c='blue' , marker='^')\n",
        "\n",
        "plt.xlabel(\"x1\")\n",
        "plt.ylabel(\"x2\")\n",
        "plt.show()"
      ],
      "execution_count": null,
      "outputs": []
    },
    {
      "cell_type": "markdown",
      "metadata": {
        "id": "78g9D5iuB1zV"
      },
      "source": [
        "## Tensorflow Session\n",
        "위 Data를 기준으로 XOR처리를 위한 모델을 만들도록 하겠습니다\n",
        "- Tensorflow data API를 통해 학습시킬 값들을 담는다 (Batch Size는 한번에 학습시킬 Size로 정한다)\n",
        "- features,labels는 실재 학습에 쓰일 Data (연산을 위해 Type를 맞춰준다)"
      ]
    },
    {
      "cell_type": "code",
      "metadata": {
        "id": "qkZDK8LaB1cQ"
      },
      "source": [
        "dataset = tf.data.Dataset.from_tensor_slices((x_data, y_data)).batch(len(x_data))\n",
        "\n",
        "def preprocess_data(features, labels):\n",
        "    features = tf.cast(features, tf.float32)\n",
        "    labels = tf.cast(labels, tf.float32)\n",
        "    return features, labels"
      ],
      "execution_count": null,
      "outputs": []
    },
    {
      "cell_type": "markdown",
      "metadata": {
        "id": "t4JClkTvB9xT"
      },
      "source": [
        "Neural Network를 통해 XOR해결\n",
        "\n",
        "- 위의 Data를 3Layer의 Neural Network를 통해 학습시킨 후 모델을 생성합니다.(강의에서 설명한 구조)"
      ]
    },
    {
      "cell_type": "code",
      "metadata": {
        "id": "GEfPR1eZCs_g"
      },
      "source": [
        "W1 = tf.Variable(tf.random.normal((2, 1)), name='weight1')\n",
        "b1 = tf.Variable(tf.random.normal((1,)), name='bias1')\n",
        "\n",
        "W2 = tf.Variable(tf.random.normal((2, 1)), name='weight2')\n",
        "b2 = tf.Variable(tf.random.normal((1,)), name='bias2')\n",
        "\n",
        "W3 = tf.Variable(tf.random.normal((2, 1)), name='weight3')\n",
        "b3 = tf.Variable(tf.random.normal((1,)), name='bias3')"
      ],
      "execution_count": null,
      "outputs": []
    },
    {
      "cell_type": "code",
      "metadata": {
        "id": "giLF_aRVC1M5"
      },
      "source": [
        "def neural_net(features):\n",
        "    layer1 = tf.sigmoid(tf.matmul(features, W1) + b1)\n",
        "    layer2 = tf.sigmoid(tf.matmul(features, W2) + b2)\n",
        "    layer3 = tf.concat([layer1, layer2],-1)\n",
        "    layer3 = tf.reshape(layer3, shape = [-1,2])\n",
        "    hypothesis = tf.sigmoid(tf.matmul(layer3, W3) + b3)\n",
        "    return hypothesis\n",
        "\n",
        "def loss_fn(hypothesis, labels):\n",
        "    cost = -tf.reduce_mean(labels * tf.math.log(hypothesis) + (1 - labels) * tf.math.log(1 - hypothesis))\n",
        "    return cost\n",
        "\n",
        "optimizer = tf.keras.optimizers.SGD(learning_rate=0.01)\n",
        "\n",
        "def accuracy_fn(hypothesis, labels):\n",
        "    predicted = tf.cast(hypothesis > 0.5, dtype=tf.float32)\n",
        "    accuracy = tf.reduce_mean(tf.cast(tf.equal(predicted, labels), dtype=tf.float32))\n",
        "    return accuracy\n",
        "\n",
        "def grad(hypothesis, features, labels):\n",
        "    with tf.GradientTape() as tape:\n",
        "        loss_value = loss_fn(neural_net(features),labels)\n",
        "    return tape.gradient(loss_value, [W1, W2, W3, b1, b2, b3])"
      ],
      "execution_count": null,
      "outputs": []
    },
    {
      "cell_type": "code",
      "metadata": {
        "id": "1Ds2oPzZC5Qr"
      },
      "source": [
        "EPOCHS = 50000\n",
        "\n",
        "for step in range(EPOCHS):\n",
        "    for features, labels  in dataset:\n",
        "        features, labels = preprocess_data(features, labels)\n",
        "        grads = grad(neural_net(features), features, labels)\n",
        "        optimizer.apply_gradients(grads_and_vars=zip(grads,[W1, W2, W3, b1, b2, b3]))\n",
        "        if step % 5000 == 0:\n",
        "            print(\"Iter: {}, Loss: {:.4f}\".format(step, loss_fn(neural_net(features),labels)))\n",
        "x_data, y_data = preprocess_data(x_data, y_data)\n",
        "test_acc = accuracy_fn(neural_net(x_data),y_data)\n",
        "print(\"Testset Accuracy: {:.4f}\".format(test_acc))"
      ],
      "execution_count": null,
      "outputs": []
    }
  ]
}