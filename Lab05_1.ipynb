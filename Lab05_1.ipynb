{
  "nbformat": 4,
  "nbformat_minor": 0,
  "metadata": {
    "colab": {
      "name": "Lab05_1.ipynb",
      "provenance": [],
      "private_outputs": true,
      "authorship_tag": "ABX9TyNLjMSpg5wsHX1I+681bUVM",
      "include_colab_link": true
    },
    "kernelspec": {
      "name": "python3",
      "display_name": "Python 3"
    }
  },
  "cells": [
    {
      "cell_type": "markdown",
      "metadata": {
        "id": "view-in-github",
        "colab_type": "text"
      },
      "source": [
        "<a href=\"https://colab.research.google.com/github/danbom/tensorflow/blob/master/Lab05_1.ipynb\" target=\"_parent\"><img src=\"https://colab.research.google.com/assets/colab-badge.svg\" alt=\"Open In Colab\"/></a>"
      ]
    },
    {
      "cell_type": "code",
      "metadata": {
        "id": "4_jxMg79q2ub",
        "colab_type": "code",
        "colab": {}
      },
      "source": [
        "import numpy as np\n",
        "import matplotlib.pyplot as plt\n",
        "import tensorflow as tf\n",
        "\n",
        "tf.random.set_seed(777)"
      ],
      "execution_count": null,
      "outputs": []
    },
    {
      "cell_type": "code",
      "metadata": {
        "id": "UNkOyUQwrdEl",
        "colab_type": "code",
        "colab": {}
      },
      "source": [
        "x_train = [[1.,2.],[2.,3.],[3.,1.],[4.,3.],[5.,3.],[6.,2.]]\n",
        "y_train = [[0.],[0.],[0.],[1.],[1.],[1.]]\n",
        "\n",
        "x_test = [[5.,2.]]\n",
        "y_test = [[1.]]\n",
        "\n",
        "x1 = [x[0] for x in x_train]\n",
        "x2 = [x[1] for x in x_train]\n",
        "\n",
        "colors = [int(y[0]%3) for y in y_train]\n",
        "plt.scatter(x1, x2, c=colors, marker='^')\n",
        "plt.scatter(x_test[0][0], x_test[0][1], c=\"red\")\n",
        "\n",
        "plt.xlabel(\"x1\")\n",
        "plt.ylabel(\"x2\")\n",
        "plt.show()"
      ],
      "execution_count": null,
      "outputs": []
    },
    {
      "cell_type": "code",
      "metadata": {
        "id": "zTLYLQ0os-Ep",
        "colab_type": "code",
        "colab": {}
      },
      "source": [
        "dataset = tf.data.Dataset.from_tensor_slices((x_train, y_train)).batch(len(x_train))\n",
        " \n",
        "W = tf.Variable(tf.zeros([2,1]), name = 'weight')\n",
        "b = tf.Variable(tf.zeros([1]), name = 'bias')"
      ],
      "execution_count": null,
      "outputs": []
    },
    {
      "cell_type": "code",
      "metadata": {
        "id": "vsykFOqqvO9Z",
        "colab_type": "code",
        "colab": {}
      },
      "source": [
        "def logistic_regression(features) :\n",
        "    hypothesis = tf.divide(1.,1. + tf.exp(tf.matmul(features, W) + b ))\n",
        "    return hypothesis"
      ],
      "execution_count": null,
      "outputs": []
    },
    {
      "cell_type": "code",
      "metadata": {
        "id": "LyJc08uYw6Y9",
        "colab_type": "code",
        "colab": {}
      },
      "source": [
        "def loss_fn(hypothesis, features, labels) :\n",
        "    cost = -tf.reduce_mean(labels * tf.math.log(logistic_regression(features)) + (1 - labels) * tf.math.log(1 - hypothesis))\n",
        "    return cost\n",
        "\n",
        "optimizer = tf.keras.optimizers.SGD(learning_rate=0.01)"
      ],
      "execution_count": null,
      "outputs": []
    },
    {
      "cell_type": "code",
      "metadata": {
        "id": "CHkWBu1sxcWH",
        "colab_type": "code",
        "colab": {}
      },
      "source": [
        "def accuracy_fn(hypothesis, labels) :\n",
        "    predicted = tf.cast(hypothesis > 0.5, dtype=tf.float32)\n",
        "    accuracy = tf.reduce_mean(tf.cast(tf.equal(predicted, labels), dtype=tf.int32))\n",
        "    return accuracy\n"
      ],
      "execution_count": null,
      "outputs": []
    },
    {
      "cell_type": "code",
      "metadata": {
        "id": "qLbh5ZG9xyTa",
        "colab_type": "code",
        "colab": {}
      },
      "source": [
        "def grad(features, labels):\n",
        "    with tf.GradientTape() as tape :\n",
        "        loss_value = loss_fn(logistic_regression(features), features, labels)\n",
        "        return tape.gradient(loss_value, [W,b])"
      ],
      "execution_count": null,
      "outputs": []
    },
    {
      "cell_type": "code",
      "metadata": {
        "id": "o-NqUP38yKAG",
        "colab_type": "code",
        "colab": {}
      },
      "source": [
        "EPOCHS = 1001\n",
        "\n",
        "for step in range(EPOCHS):\n",
        "    for features, labels in iter(dataset):\n",
        "        grads = grad(features, labels)\n",
        "        optimizer.apply_gradients(grads_and_vars=zip(grads,[W,b]))\n",
        "        if step % 100 == 0:\n",
        "            print(\"Iter : {}, Loss : {:4f}\".format(step, loss_fn(logistic_regression(features), features, labels)))\n",
        "test_acc = accuracy_fn(logistic_regression(x_test),y_test)\n",
        "print(\"Testset Accuracy : {:4f}\".format(test_acc))"
      ],
      "execution_count": null,
      "outputs": []
    }
  ]
}