{
  "nbformat": 4,
  "nbformat_minor": 0,
  "metadata": {
    "colab": {
      "name": "Lab07_3.ipynb",
      "provenance": [],
      "private_outputs": true,
      "authorship_tag": "ABX9TyO26NsJXQ2fq5Va/S3Hpf/P",
      "include_colab_link": true
    },
    "kernelspec": {
      "name": "python3",
      "display_name": "Python 3"
    }
  },
  "cells": [
    {
      "cell_type": "markdown",
      "metadata": {
        "id": "view-in-github",
        "colab_type": "text"
      },
      "source": [
        "<a href=\"https://colab.research.google.com/github/danbom/tensorflow/blob/master/Lab07_3.ipynb\" target=\"_parent\"><img src=\"https://colab.research.google.com/assets/colab-badge.svg\" alt=\"Open In Colab\"/></a>"
      ]
    },
    {
      "cell_type": "markdown",
      "metadata": {
        "id": "JCjx_4W2bhgn",
        "colab_type": "text"
      },
      "source": [
        "Lab 07-3 linear regression - Eager(normalization, decay, l2_loss)"
      ]
    },
    {
      "cell_type": "code",
      "metadata": {
        "id": "YEVzMYlQbTAp",
        "colab_type": "code",
        "colab": {}
      },
      "source": [
        "import numpy as np\n",
        "import matplotlib.pyplot as plt\n",
        "import tensorflow as tf\n",
        "\n",
        "tf.random.set_seed(777)"
      ],
      "execution_count": null,
      "outputs": []
    },
    {
      "cell_type": "markdown",
      "metadata": {
        "id": "sgKz3SvOcEYn",
        "colab_type": "text"
      },
      "source": [
        "- 정규화를 위한 함수 ( 최대 최소값이 1과 0이 되도록 Scaling 한다 )"
      ]
    },
    {
      "cell_type": "code",
      "metadata": {
        "id": "2vgSZtCobPJi",
        "colab_type": "code",
        "colab": {}
      },
      "source": [
        "def normalization(data):\n",
        "    numerator = data - np.min(data, 0)\n",
        "    denominator = np.max(data, 0) - np.min(data, 0)\n",
        "    return numerator / denominator"
      ],
      "execution_count": null,
      "outputs": []
    },
    {
      "cell_type": "code",
      "metadata": {
        "id": "dJut7cq-dovY",
        "colab_type": "code",
        "colab": {}
      },
      "source": [
        "xy = np.array([[828.659973, 833.450012, 908100, 828.349976, 831.659973],\n",
        "               [823.02002, 828.070007, 1828100, 821.655029, 828.070007],\n",
        "               [819.929993, 824.400024, 1438100, 818.97998, 824.159973],\n",
        "               [816, 820.958984, 1008100, 815.48999, 819.23999],\n",
        "               [819.359985, 823, 1188100, 818.469971, 818.97998],\n",
        "               [819, 823, 1198100, 816, 820.450012],\n",
        "               [811.700012, 815.25, 1098100, 809.780029, 813.669983],\n",
        "               [809.51001, 816.659973, 1398100, 804.539978, 809.559998]])\n",
        "\n",
        "x_train = xy[:,0:-1]\n",
        "y_train = xy[:,[-1]]\n",
        "\n",
        "plt.plot(x_train, 'ro')\n",
        "plt.plot(y_train)\n",
        "plt.show()"
      ],
      "execution_count": null,
      "outputs": []
    },
    {
      "cell_type": "markdown",
      "metadata": {
        "id": "vRT7kRsXeGUo",
        "colab_type": "text"
      },
      "source": [
        "- 표준화 적용해 실행"
      ]
    },
    {
      "cell_type": "code",
      "metadata": {
        "id": "sfKLc5fXefP4",
        "colab_type": "code",
        "colab": {}
      },
      "source": [
        "xy = normalization(xy)\n",
        "print(xy)\n",
        "x_train = xy[:,0:-1]\n",
        "y_train = xy[:,[-1]]\n",
        "\n",
        "plt.plot(x_train, 'ro')\n",
        "plt.plot(y_train)\n",
        "\n",
        "plt.show()"
      ],
      "execution_count": null,
      "outputs": []
    },
    {
      "cell_type": "markdown",
      "metadata": {
        "id": "eFxyUqFPepCV",
        "colab_type": "text"
      },
      "source": [
        "- 위 Data 기준으로 Linear Regression 모델 만들기"
      ]
    },
    {
      "cell_type": "code",
      "metadata": {
        "id": "cW_usf_eemVe",
        "colab_type": "code",
        "colab": {}
      },
      "source": [
        "dataset = tf.data.Dataset.from_tensor_slices((x_train, y_train)).batch(len(x_train))\n",
        "\n",
        "W = tf.Variable(tf.random.normal((4,1)),dtype=tf.float32)\n",
        "b = tf.Variable(tf.random.normal((1,)), dtype=tf.float32)"
      ],
      "execution_count": null,
      "outputs": []
    },
    {
      "cell_type": "markdown",
      "metadata": {
        "id": "0x56SDapfiki",
        "colab_type": "text"
      },
      "source": [
        "- Linear Regression Hypothesis 정의 (y = Wx + b)"
      ]
    },
    {
      "cell_type": "code",
      "metadata": {
        "id": "MYbducdxfoiE",
        "colab_type": "code",
        "colab": {}
      },
      "source": [
        "def linearReg_fn(features):\n",
        "    hypothesis = tf.matmul(features, W) + b\n",
        "    return hypothesis"
      ],
      "execution_count": null,
      "outputs": []
    },
    {
      "cell_type": "markdown",
      "metadata": {
        "id": "jCMsO9erfxsz",
        "colab_type": "text"
      },
      "source": [
        "- L2 loss를 적용할 함수 정의\n",
        "-- Weight의 수가 많아지면 수만큼 더한다 tf.nn.l2_loss(W2) + tf.nn.l2_loss(W3)"
      ]
    },
    {
      "cell_type": "code",
      "metadata": {
        "id": "YjeTcER8f_OO",
        "colab_type": "code",
        "colab": {}
      },
      "source": [
        "def l2_loss(loss, beta=0.01):\n",
        "    W_reg = tf.nn.l2_loss(W) # output = sum(t**2) / 2\n",
        "    loss = tf.reduce_mean(loss + W_reg * beta)\n",
        "    return loss"
      ],
      "execution_count": null,
      "outputs": []
    },
    {
      "cell_type": "markdown",
      "metadata": {
        "id": "PNDUPCTBgenE",
        "colab_type": "text"
      },
      "source": [
        "- 가설을 검증할 Cost 함수 정의 (Mean Square Error 사용)"
      ]
    },
    {
      "cell_type": "code",
      "metadata": {
        "id": "o_S6fkE6gka5",
        "colab_type": "code",
        "colab": {}
      },
      "source": [
        "def loss_fn(hypothesis, features, labels, flag = False):\n",
        "    cost = tf.reduce_mean(tf.square(hypothesis - labels))\n",
        "    if (flag):\n",
        "        cost = l2_loss(cost)\n",
        "    return cost"
      ],
      "execution_count": null,
      "outputs": []
    },
    {
      "cell_type": "markdown",
      "metadata": {
        "id": "9Mc-JStrg3og",
        "colab_type": "text"
      },
      "source": [
        "- Learning Decay 설정"
      ]
    },
    {
      "cell_type": "code",
      "metadata": {
        "id": "fOSXhad6g8F4",
        "colab_type": "code",
        "colab": {}
      },
      "source": [
        "is_decay = True\n",
        "starter_learning_rate = 0.1\n",
        "\n",
        "if(is_decay):\n",
        "    learning_rate = tf.keras.optimizers.schedules.ExponentialDecay(initial_learning_rate=starter_learning_rate, decay_rate=0.9, decay_steps=50, staircase=True)\n",
        "    optimizer = tf.keras.optimizers.SGD(learning_rate)\n",
        "\n",
        "else:\n",
        "    optimizer = tf.keras.optimizers.SGD(learning_rate=starter_learning_rate)\n",
        "\n",
        "def grad(hypothesis, features, labels, l2_flag):\n",
        "    with tf.GradientTape() as tape:\n",
        "        loss_value = loss_fn(linearReg_fn(features), features, labels, l2_flag)\n",
        "    return tape.gradient(loss_value, [W,b]), loss_value"
      ],
      "execution_count": null,
      "outputs": []
    },
    {
      "cell_type": "code",
      "metadata": {
        "id": "Y-f4Z78rhxR9",
        "colab_type": "code",
        "colab": {}
      },
      "source": [
        "EPOCHS = 101\n",
        "\n",
        "for step in range(EPOCHS):\n",
        "    for features, labels in dataset:\n",
        "        features = tf.cast(features, tf.float32)\n",
        "        labels = tf.cast(labels, tf.float32)\n",
        "        grads, loss_value = grad(linearReg_fn(features), features, labels, False)\n",
        "        optimizer.apply_gradients(grads_and_vars=zip(grads,[W,b]))\n",
        "    if step % 10 == 0:\n",
        "        print(\"Iter:{}, Loss:{:4f}\".format(step, loss_value))"
      ],
      "execution_count": null,
      "outputs": []
    }
  ]
}